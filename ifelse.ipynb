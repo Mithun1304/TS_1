{
  "nbformat": 4,
  "nbformat_minor": 0,
  "metadata": {
    "colab": {
      "name": "ifelse.ipynb",
      "provenance": [],
      "collapsed_sections": [],
      "authorship_tag": "ABX9TyOJpZjhDbLMoVNXD4nMnK7X",
      "include_colab_link": true
    },
    "kernelspec": {
      "name": "python3",
      "display_name": "Python 3"
    },
    "language_info": {
      "name": "python"
    }
  },
  "cells": [
    {
      "cell_type": "markdown",
      "metadata": {
        "id": "view-in-github",
        "colab_type": "text"
      },
      "source": [
        "<a href=\"https://colab.research.google.com/github/Mithun1304/TS_1/blob/main/ifelse.ipynb\" target=\"_parent\"><img src=\"https://colab.research.google.com/assets/colab-badge.svg\" alt=\"Open In Colab\"/></a>"
      ]
    },
    {
      "cell_type": "code",
      "execution_count": null,
      "metadata": {
        "colab": {
          "base_uri": "https://localhost:8080/"
        },
        "id": "Ul-utZtyQ7e4",
        "outputId": "22d59c7a-dc69-4099-d840-043ca402f092"
      },
      "outputs": [
        {
          "output_type": "stream",
          "name": "stdout",
          "text": [
            "Positive or Zero\n"
          ]
        }
      ],
      "source": [
        "num = 60\n",
        "if num >= 0:\n",
        "    print(\"Positive or Zero\")\n",
        "else:\n",
        "    print(\"Negative number\")"
      ]
    },
    {
      "cell_type": "code",
      "source": [
        "if number > 0:\n",
        "  print(\"That number is positive.\")\n",
        "  print(\"\")\n",
        "\n"
      ],
      "metadata": {
        "id": "Nfd_qgTGSikq"
      },
      "execution_count": null,
      "outputs": []
    },
    {
      "cell_type": "code",
      "source": [
        "a=int(input(\"enter a value \"))\n",
        "b=int(input(\"enter v value \"))\n",
        "if a==b:\n",
        "    print(\"equal\")\n",
        "else:\n",
        "    print(\"Not equal\")"
      ],
      "metadata": {
        "id": "fb3lzKIrVdEO"
      },
      "execution_count": null,
      "outputs": []
    },
    {
      "cell_type": "code",
      "source": [
        "a, b, c = 20, 24, 43\n",
        "if a>b and a>c:\n",
        "  print(\"a is the biggest number\")\n",
        "else: b>c:\n",
        "  print(\"b is the biigest number\")\n",
        "else:\n",
        "  print(\"c is the biggest number\")  "
      ],
      "metadata": {
        "id": "zGicSxenWf_m"
      },
      "execution_count": null,
      "outputs": []
    },
    {
      "cell_type": "code",
      "source": [
        ""
      ],
      "metadata": {
        "id": "jTms8QCzYSa2"
      },
      "execution_count": null,
      "outputs": []
    }
  ]
}